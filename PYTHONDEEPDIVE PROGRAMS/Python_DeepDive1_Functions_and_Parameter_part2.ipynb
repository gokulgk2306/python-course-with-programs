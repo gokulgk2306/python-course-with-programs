{
 "cells": [
  {
   "cell_type": "markdown",
   "id": "61188db5-ee16-4af7-b517-5f125ee1f9f8",
   "metadata": {},
   "source": [
    "Packed Values -->\n",
    "1,2,3 is a tuple , 1, is a tuple (1) is a tuples\n",
    "Packed values are values that are tihgether\n",
    "tuple , list , string , sets , dict , Iterablers are \n",
    "A,B,C = [1,2,3] ==> 3 Variables needed to take the values\n",
    "a,b,c = \n",
    "Dictionery , sets are unordered types--> This also will worknbut mnot the expected one\n"
   ]
  },
  {
   "cell_type": "code",
   "execution_count": 1,
   "id": "68a99907-cdd5-4365-bb94-3a288a6b7465",
   "metadata": {},
   "outputs": [
    {
     "name": "stdout",
     "output_type": "stream",
     "text": [
      "0 apple\n",
      "1 banana\n",
      "2 cherry\n"
     ]
    }
   ],
   "source": [
    "#enumerate\n",
    "fruits = ['apple', 'banana', 'cherry']\n",
    "\n",
    "for index, value in enumerate(fruits):\n",
    "    print(index, value)"
   ]
  },
  {
   "cell_type": "code",
   "execution_count": 5,
   "id": "452e47b1-32f1-4c17-b930-d6fe5a13332b",
   "metadata": {},
   "outputs": [
    {
     "name": "stdout",
     "output_type": "stream",
     "text": [
      "<class 'tuple'>\n",
      "<class 'tuple'>\n",
      "<class 'tuple'>\n"
     ]
    }
   ],
   "source": [
    "#Unpacking Iterables\n",
    "a = (1,2,3)\n",
    "print(type(a))\n",
    "b = 1,2,3\n",
    "print(type(b))\n",
    "c = 1,\n",
    "print(type(c))"
   ]
  },
  {
   "cell_type": "code",
   "execution_count": 12,
   "id": "63543361-9f80-44b9-86f3-e7277fb7c3d8",
   "metadata": {},
   "outputs": [
    {
     "name": "stdout",
     "output_type": "stream",
     "text": [
      "('a', 1)\n",
      "('b', 2)\n"
     ]
    }
   ],
   "source": [
    "a = {'a':1,'b':2}\n",
    "for e in a.items():\n",
    "    print(e)\n",
    "#if you do this --> then u will get as a tuple --> e in a.items()"
   ]
  },
  {
   "cell_type": "markdown",
   "id": "a5f10657-43b9-494e-b91b-6821e21a2fb6",
   "metadata": {},
   "source": [
    "***Extended Unpacking***"
   ]
  },
  {
   "cell_type": "code",
   "execution_count": 29,
   "id": "0381bc57-cbdf-4274-ad88-dc6676a3c950",
   "metadata": {},
   "outputs": [
    {
     "name": "stdout",
     "output_type": "stream",
     "text": [
      "[1, 2, 3, 4, 5, 6]\n",
      "p ['y', 't', 'h', 'o', 'n']\n"
     ]
    }
   ],
   "source": [
    "#usage of * in unpacking\n",
    "l1 = [1,2,3]\n",
    "l2 = [4,5,6]\n",
    "l = [*l1,*l2]\n",
    "print(l)\n",
    "s = \"python\"\n",
    "a , *b = s\n",
    "print(a,b)"
   ]
  },
  {
   "cell_type": "code",
   "execution_count": 20,
   "id": "9fc81627-7f5d-4747-b30e-458a3aaed969",
   "metadata": {},
   "outputs": [
    {
     "name": "stdout",
     "output_type": "stream",
     "text": [
      "[[1, 2, 3], [4, 5, 6]]\n"
     ]
    }
   ],
   "source": [
    "l1 = [1,2,3]\n",
    "l2 = [4,5,6]\n",
    "l = [l1,l2]\n",
    "print(l)"
   ]
  },
  {
   "cell_type": "code",
   "execution_count": 21,
   "id": "7d570b4a-508b-4eb4-a563-131e74fcf7fa",
   "metadata": {},
   "outputs": [
    {
     "name": "stdout",
     "output_type": "stream",
     "text": [
      "1\n",
      "[2, 3, 4]\n"
     ]
    }
   ],
   "source": [
    "#using * in second varible from unpacking values from list\n",
    "l3 = [1,2,3,4]\n",
    "a , *b = l3\n",
    "print(a)\n",
    "print(b)"
   ]
  },
  {
   "cell_type": "code",
   "execution_count": 10,
   "id": "e9e36875-ca94-4cbe-a5c9-76d62a7a8569",
   "metadata": {},
   "outputs": [
    {
     "name": "stdout",
     "output_type": "stream",
     "text": [
      "[1, 2, 3]\n",
      "4\n"
     ]
    }
   ],
   "source": [
    "#using * in multiple varible from unpacking values from list U can use only one \n",
    "l3 = [1,2,3,4]\n",
    "a , *b = l3\n",
    "print(a)\n",
    "print(b)"
   ]
  },
  {
   "cell_type": "code",
   "execution_count": 2,
   "id": "4c1a21c4-c1a8-4640-86d6-d4129c3157fa",
   "metadata": {},
   "outputs": [
    {
     "name": "stdout",
     "output_type": "stream",
     "text": [
      "{'p', 't', 'o', 'y', 'n', 'h'}\n",
      "{'p': 1, 'y': 2, 't': 3, 'h': 5, 'o': 6, 'n': 7}\n"
     ]
    }
   ],
   "source": [
    "#** is used to unpack the dictionary\n",
    "a  = {'p' : 1 , 'y' : 2}\n",
    "b  = {'t' :3 , 'h' : 4,}\n",
    "c  = {'h' :5 , 'o' : 6, 'n':7}\n",
    "d={*a,*b,*c}\n",
    "print(d)\n",
    "e={**a,**b,**c}\n",
    "print(e)"
   ]
  },
  {
   "cell_type": "code",
   "execution_count": 11,
   "id": "a3b9e025-3c38-4559-bc33-a3214725e587",
   "metadata": {},
   "outputs": [
    {
     "name": "stdout",
     "output_type": "stream",
     "text": [
      "['a', 'b']\n"
     ]
    },
    {
     "data": {
      "text/plain": [
       "list"
      ]
     },
     "execution_count": 11,
     "metadata": {},
     "output_type": "execute_result"
    }
   ],
   "source": [
    "#*args \n",
    "\n",
    "a , b , *c = 10, 20 ,'a','b'\n",
    "print(c)\n",
    "#We cant able to define a normal parameter after an args'\n",
    "#List is a one paramater\n",
    "def fun(a,b,c):\n",
    "    pass\n",
    "l = [1,2,3]\n",
    "#fun(l) --> This will not work'\n",
    "#for this we can try with unpacking'\n",
    "fun(*l)\n",
    "type(c)"
   ]
  },
  {
   "cell_type": "code",
   "execution_count": 1,
   "id": "f3f59d15-f7ba-43d2-86fb-6699f51b03a4",
   "metadata": {},
   "outputs": [
    {
     "name": "stdout",
     "output_type": "stream",
     "text": [
      "10 20 ()\n"
     ]
    }
   ],
   "source": [
    "def fun(a , b , *c):\n",
    "    print(a,b,c)\n",
    "fun(10,20)"
   ]
  },
  {
   "cell_type": "code",
   "execution_count": 4,
   "id": "02fd5182-bf2f-41d8-bf2d-5d4d8129630b",
   "metadata": {},
   "outputs": [
    {
     "name": "stdout",
     "output_type": "stream",
     "text": [
      "{'a': 1, 'b': 2, 'c': 3}\n",
      "(1, 2, 3)\n",
      "{'a': 1, 'b': 2, 'c': 3}\n"
     ]
    }
   ],
   "source": [
    "#**kwargs\n",
    "#* is a tuple and ** is a dict\n",
    "def func1(**kwargs):\n",
    "    print(kwargs)\n",
    "func1(a=1,b=2,c=3)\n",
    "def func2(*args,**kwargs):\n",
    "    print(args)\n",
    "    print(kwargs)    \n",
    "func2(1,2,3,a=1,b=2,c=3)"
   ]
  },
  {
   "cell_type": "code",
   "execution_count": 5,
   "id": "6495332e-391c-490d-b1b1-41f1df667459",
   "metadata": {},
   "outputs": [
    {
     "ename": "SyntaxError",
     "evalue": "positional argument follows keyword argument (4192811033.py, line 5)",
     "output_type": "error",
     "traceback": [
      "\u001b[1;36m  Cell \u001b[1;32mIn[5], line 5\u001b[1;36m\u001b[0m\n\u001b[1;33m    func(1, c=3, 'x', 'y', 'z')  # Correct: 'x', 'y', 'z' go to *args\u001b[0m\n\u001b[1;37m                              ^\u001b[0m\n\u001b[1;31mSyntaxError\u001b[0m\u001b[1;31m:\u001b[0m positional argument follows keyword argument\n"
     ]
    }
   ],
   "source": [
    "def func(a, b=2, c=1, *args):\n",
    "    print(a, b, c, args)\n",
    "\n",
    "#Correct calls\n",
    "func(1, c=3, 'x', 'y', 'z')  # Correct: 'x', 'y', 'z' go to *args"
   ]
  },
  {
   "cell_type": "markdown",
   "id": "94cc7a44-9e92-4282-98dc-459d69fe82a3",
   "metadata": {},
   "source": [
    "***A SIMPLE FUNCTION TIMER***"
   ]
  },
  {
   "cell_type": "code",
   "execution_count": 11,
   "id": "68fe9497-c2f7-4c30-a9de-d9734de30a38",
   "metadata": {},
   "outputs": [],
   "source": [
    "import time\n",
    "\n",
    "def fun_timer(fn , *args, **kwargs):\n",
    "    print(args, kwargs)"
   ]
  },
  {
   "cell_type": "code",
   "execution_count": 13,
   "id": "4fa34504-1a38-423e-8191-fcaf4f819b1d",
   "metadata": {},
   "outputs": [
    {
     "name": "stdout",
     "output_type": "stream",
     "text": [
      "(1, 2, 3) {'sep': ' - ', 'end': ' ***'}\n"
     ]
    }
   ],
   "source": [
    "fun_timer(print, 1, 2, 3 , sep=' - ' , end=' ***')"
   ]
  },
  {
   "cell_type": "code",
   "execution_count": 14,
   "id": "05bf293b-d578-4478-b8fc-86f42ec10eea",
   "metadata": {},
   "outputs": [],
   "source": [
    "def time_it(fn, *args, rep=5, **kwargs):\n",
    "    for i in range(rep):\n",
    "        fn(*args, **kwargs)"
   ]
  },
  {
   "cell_type": "code",
   "execution_count": 15,
   "id": "1f842cef-2ba2-4154-9a44-8db5c937965b",
   "metadata": {},
   "outputs": [
    {
     "name": "stdout",
     "output_type": "stream",
     "text": [
      "1-2-3\n",
      "1-2-3\n",
      "1-2-3\n",
      "1-2-3\n",
      "1-2-3\n"
     ]
    }
   ],
   "source": [
    "time_it(print, 1, 2, 3, sep='-')"
   ]
  },
  {
   "cell_type": "code",
   "execution_count": 16,
   "id": "8ccc6c58-a1d3-4557-8d4f-776a48b21e12",
   "metadata": {},
   "outputs": [],
   "source": [
    "def time_it(fn, *args, rep=5, **kwargs):\n",
    "    start = time.perf_counter()\n",
    "    for i in range(rep):\n",
    "        fn(*args, **kwargs)\n",
    "    end = time.perf_counter()\n",
    "    return (end - start) / rep"
   ]
  },
  {
   "cell_type": "code",
   "execution_count": 17,
   "id": "a6625a76-3dce-4b6f-a390-b9325bc01afd",
   "metadata": {},
   "outputs": [],
   "source": [
    "def compute_powers_1(n, *, start=1, end):\n",
    "    # using a for loop\n",
    "    results = []\n",
    "    for i in range(start, end):\n",
    "        results.append(n**i)\n",
    "    return results"
   ]
  },
  {
   "cell_type": "code",
   "execution_count": 18,
   "id": "1666ee1f-2a15-48bd-b4d6-a1ff5292766c",
   "metadata": {},
   "outputs": [
    {
     "data": {
      "text/plain": [
       "[2, 4, 8, 16]"
      ]
     },
     "execution_count": 18,
     "metadata": {},
     "output_type": "execute_result"
    }
   ],
   "source": [
    "compute_powers_1(2, end=5)"
   ]
  },
  {
   "cell_type": "code",
   "execution_count": 19,
   "id": "650c6d32-d521-4836-943a-014c5bf291f5",
   "metadata": {},
   "outputs": [
    {
     "name": "stdout",
     "output_type": "stream",
     "text": [
      "1 2 3 4\n"
     ]
    },
    {
     "ename": "TypeError",
     "evalue": "my_function() takes 2 positional arguments but 4 were given",
     "output_type": "error",
     "traceback": [
      "\u001b[1;31m---------------------------------------------------------------------------\u001b[0m",
      "\u001b[1;31mTypeError\u001b[0m                                 Traceback (most recent call last)",
      "Cell \u001b[1;32mIn[19], line 8\u001b[0m\n\u001b[0;32m      4\u001b[0m my_function(\u001b[38;5;241m1\u001b[39m, \u001b[38;5;241m2\u001b[39m, c\u001b[38;5;241m=\u001b[39m\u001b[38;5;241m3\u001b[39m, d\u001b[38;5;241m=\u001b[39m\u001b[38;5;241m4\u001b[39m)  \u001b[38;5;66;03m# Correct\u001b[39;00m\n\u001b[0;32m      5\u001b[0m \u001b[38;5;66;03m# my_function(a=1, b=2, c=3, d=4)  # Incorrect: a and b must be positional\u001b[39;00m\n\u001b[0;32m      6\u001b[0m \u001b[38;5;66;03m# my_function(1, b=2, c=3, d=4) # Incorrect: b must be positional\u001b[39;00m\n\u001b[1;32m----> 8\u001b[0m \u001b[43mmy_function\u001b[49m\u001b[43m(\u001b[49m\u001b[38;5;241;43m1\u001b[39;49m\u001b[43m,\u001b[49m\u001b[43m \u001b[49m\u001b[38;5;241;43m2\u001b[39;49m\u001b[43m,\u001b[49m\u001b[43m \u001b[49m\u001b[38;5;241;43m3\u001b[39;49m\u001b[43m,\u001b[49m\u001b[43m \u001b[49m\u001b[38;5;241;43m4\u001b[39;49m\u001b[43m)\u001b[49m \u001b[38;5;66;03m# Correct: a and b are positional, c and d are assumed based on order\u001b[39;00m\n",
      "\u001b[1;31mTypeError\u001b[0m: my_function() takes 2 positional arguments but 4 were given"
     ]
    }
   ],
   "source": [
    "def my_function(a, b, *, c, d):\n",
    "    print(a, b, c, d)\n",
    "\n",
    "my_function(1, 2, c=3, d=4)  # Correct\n",
    "# my_function(a=1, b=2, c=3, d=4)  # Incorrect: a and b must be positional\n",
    "# my_function(1, b=2, c=3, d=4) # Incorrect: b must be positional\n",
    "\n",
    "my_function(1, 2, 3, 4) "
   ]
  },
  {
   "cell_type": "code",
   "execution_count": 21,
   "id": "594caa8a-b8be-40ee-bd6f-fe9097fd77e2",
   "metadata": {},
   "outputs": [],
   "source": [
    "#DOCSTRINGS AND ANNOTATIONS"
   ]
  },
  {
   "cell_type": "code",
   "execution_count": 26,
   "id": "f075f2fd-783e-4807-be81-60f3cbd24716",
   "metadata": {},
   "outputs": [
    {
     "name": "stdout",
     "output_type": "stream",
     "text": [
      "Help on function my_func in module __main__:\n",
      "\n",
      "my_func(b, a=10)\n",
      "    Input is somewhat not important for a\n",
      "    but ,\n",
      "    output is determied by python\n",
      "\n"
     ]
    }
   ],
   "source": [
    "def  my_func(b,a=10):\n",
    "    \"\"\"Input is somewhat not important for a\n",
    "    but ,\n",
    "    output is determied by python\"\"\"\n",
    "    pass\n",
    "\n",
    "help(my_func)\n",
    "#IT ONLY SHOWS IN THE HELP WHEN THE DOCUMENTATION IS IN THE FIRST LINE OF THE CODE\n"
   ]
  },
  {
   "cell_type": "code",
   "execution_count": 30,
   "id": "ad225d2c-3046-4277-afa0-03af77a448b7",
   "metadata": {},
   "outputs": [
    {
     "data": {
      "text/plain": [
       "'bbbbbbbbbb'"
      ]
     },
     "execution_count": 30,
     "metadata": {},
     "output_type": "execute_result"
    }
   ],
   "source": [
    "def my_func1(a : \"This is the number\", b : \"This is the value it going to multiples with a\" = 10) -> 'this is output of resilt':\n",
    "    return a * b\n",
    "\n",
    "my_func1('b')"
   ]
  },
  {
   "cell_type": "code",
   "execution_count": 32,
   "id": "05762bea-958a-47b8-ab4a-a15626c60f35",
   "metadata": {},
   "outputs": [],
   "source": [
    "#LAMBDA EXPRESSIONS : ANOTHER SIMPLE WAY TO CREATE FUNCTIONS--> IT IS AN ANONMYOUS FUNCTION"
   ]
  },
  {
   "cell_type": "code",
   "execution_count": 38,
   "id": "969097b2-f994-433a-ad3f-68827a92e7ad",
   "metadata": {},
   "outputs": [
    {
     "name": "stdout",
     "output_type": "stream",
     "text": [
      "GOKUL\n"
     ]
    }
   ],
   "source": [
    "mylam = lambda x : print(x.upper())\n",
    "mylam('Gokul')\n",
    "#it will return without the use of return keyword"
   ]
  },
  {
   "cell_type": "code",
   "execution_count": 43,
   "id": "a1e982a1-ebc8-48f8-a272-25509a2528c5",
   "metadata": {},
   "outputs": [
    {
     "name": "stdout",
     "output_type": "stream",
     "text": [
      "10000\n"
     ]
    },
    {
     "data": {
      "text/plain": [
       "'Gokul'"
      ]
     },
     "execution_count": 43,
     "metadata": {},
     "output_type": "execute_result"
    }
   ],
   "source": [
    "my_ano_lamb = lambda x : print(x**2)\n",
    "my_ano_lamb(100)\n",
    "my_lamb2 = lambda : 'Gokul'\n",
    "my_lamb2()"
   ]
  },
  {
   "cell_type": "code",
   "execution_count": 45,
   "id": "0d6e602c-edbc-497c-a01d-b81c5e83461b",
   "metadata": {},
   "outputs": [
    {
     "ename": "SyntaxError",
     "evalue": "cannot assign to lambda (2177016768.py, line 1)",
     "output_type": "error",
     "traceback": [
      "\u001b[1;36m  Cell \u001b[1;32mIn[45], line 1\u001b[1;36m\u001b[0m\n\u001b[1;33m    mylamb2 = lambda x : x = 5\u001b[0m\n\u001b[1;37m              ^\u001b[0m\n\u001b[1;31mSyntaxError\u001b[0m\u001b[1;31m:\u001b[0m cannot assign to lambda\n"
     ]
    }
   ],
   "source": [
    "mylamb2 = lambda x : x = 5\n",
    "#We can't assign values to the lambda, even annotations also it is single line of code only"
   ]
  },
  {
   "cell_type": "code",
   "execution_count": 53,
   "id": "89a3e4cf-cffc-4ff2-b64b-687a56893323",
   "metadata": {},
   "outputs": [
    {
     "data": {
      "text/plain": [
       "10"
      ]
     },
     "execution_count": 53,
     "metadata": {},
     "output_type": "execute_result"
    }
   ],
   "source": [
    "def myfunc(a, fn):\n",
    "    return fn(a)\n",
    "\n",
    "myfunc(5 , lambda x : x +5)\n",
    "\n",
    "#we can passs the function as a argument"
   ]
  },
  {
   "cell_type": "code",
   "execution_count": 1,
   "id": "c4968c6c-b955-4ee4-ae0a-82e3125d1637",
   "metadata": {},
   "outputs": [
    {
     "data": {
      "text/plain": [
       "[2, 3, 3, 7, 67]"
      ]
     },
     "execution_count": 1,
     "metadata": {},
     "output_type": "execute_result"
    }
   ],
   "source": [
    "l = [3,67,7,3,2]\n",
    "sorted(l)"
   ]
  },
  {
   "cell_type": "code",
   "execution_count": 3,
   "id": "06298fd5-543d-4088-823d-97f4c2f498a3",
   "metadata": {},
   "outputs": [
    {
     "data": {
      "text/plain": [
       "[1, 5, 6, 7, 8]"
      ]
     },
     "execution_count": 3,
     "metadata": {},
     "output_type": "execute_result"
    }
   ],
   "source": [
    "l = [1,5,6,7,8]\n",
    "sorted(l)"
   ]
  },
  {
   "cell_type": "code",
   "execution_count": 7,
   "id": "391d1199-7f58-4deb-a473-4b554e112618",
   "metadata": {},
   "outputs": [
    {
     "data": {
      "text/plain": [
       "['a', 'B', 'c', 'D']"
      ]
     },
     "execution_count": 7,
     "metadata": {},
     "output_type": "execute_result"
    }
   ],
   "source": [
    "l1 = ['a','B','c','D']\n",
    "sorted(l1)\n",
    "sorted(l1 , key=lambda s:s.upper())\n",
    "#Second sorting method (sorted(l1, key=lambda s: s.upper())): Sorts the list by treating all characters as uppercase but retains the original case."
   ]
  },
  {
   "cell_type": "code",
   "execution_count": 10,
   "id": "e33a8767-aa12-46ed-b0f1-f9de7893c7c7",
   "metadata": {},
   "outputs": [
    {
     "data": {
      "text/plain": [
       "['ghi', 'abc', 'def']"
      ]
     },
     "execution_count": 10,
     "metadata": {},
     "output_type": "execute_result"
    }
   ],
   "source": [
    "d = {'def': 300, 'abc': 200, 'ghi': 100}\n",
    "sorted(d, key=lambda k: d[k])"
   ]
  },
  {
   "cell_type": "code",
   "execution_count": 12,
   "id": "62277ef1-eebd-4cdb-9710-6571354f9725",
   "metadata": {},
   "outputs": [
    {
     "data": {
      "text/plain": [
       "['abc', 'def', 'ghi']"
      ]
     },
     "execution_count": 12,
     "metadata": {},
     "output_type": "execute_result"
    }
   ],
   "source": [
    "sorted(d)"
   ]
  },
  {
   "cell_type": "code",
   "execution_count": 13,
   "id": "f1dbe860-e1e5-49f0-894a-b68c9f9651cf",
   "metadata": {},
   "outputs": [],
   "source": [
    "def dist(x):\n",
    "    return (x.real)**2 + (x.imag)**2"
   ]
  },
  {
   "cell_type": "code",
   "execution_count": 15,
   "id": "48822833-2cb2-4e0c-92fd-a8840f802894",
   "metadata": {},
   "outputs": [],
   "source": [
    "l = [3+3j, 1+1j, 0]"
   ]
  },
  {
   "cell_type": "code",
   "execution_count": 1,
   "id": "5b935d11-e9ae-4373-8d95-95dd33ba9a04",
   "metadata": {},
   "outputs": [
    {
     "name": "stdout",
     "output_type": "stream",
     "text": [
      "None\n"
     ]
    },
    {
     "data": {
      "text/plain": [
       "[3, 7, 4, 2, 1, 5, 8, 9, 6]"
      ]
     },
     "execution_count": 1,
     "metadata": {},
     "output_type": "execute_result"
    }
   ],
   "source": [
    "l = [1,2,3,4,5,6,7,8,9]\n",
    "import random\n",
    "print(random.shuffle(l))#it  will not work\n",
    "sorted(l , key=lambda x : random.random())"
   ]
  }
 ],
 "metadata": {
  "kernelspec": {
   "display_name": "Python 3 (ipykernel)",
   "language": "python",
   "name": "python3"
  },
  "language_info": {
   "codemirror_mode": {
    "name": "ipython",
    "version": 3
   },
   "file_extension": ".py",
   "mimetype": "text/x-python",
   "name": "python",
   "nbconvert_exporter": "python",
   "pygments_lexer": "ipython3",
   "version": "3.11.9"
  }
 },
 "nbformat": 4,
 "nbformat_minor": 5
}
