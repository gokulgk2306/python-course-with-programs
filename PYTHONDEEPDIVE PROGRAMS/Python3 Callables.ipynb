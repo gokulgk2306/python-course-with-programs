{
 "cells": [
  {
   "cell_type": "code",
   "execution_count": 11,
   "id": "06b629df-3bab-49a2-9662-80d7750b3c2a",
   "metadata": {},
   "outputs": [],
   "source": [
    "class Myclass:\n",
    "    def __init__(self,x=0):\n",
    "        print(\"Initializing\")\n",
    "        self.counter = x"
   ]
  },
  {
   "cell_type": "code",
   "execution_count": 12,
   "id": "3dadbaad-ce8d-4c9b-b6d7-4ae0d5f2f166",
   "metadata": {},
   "outputs": [
    {
     "name": "stdout",
     "output_type": "stream",
     "text": [
      "Initializing\n"
     ]
    }
   ],
   "source": [
    "a = Myclass(100)"
   ]
  },
  {
   "cell_type": "code",
   "execution_count": 14,
   "id": "bdc4a980-55c8-4c24-899a-2ba90537d3e8",
   "metadata": {},
   "outputs": [
    {
     "data": {
      "text/plain": [
       "100"
      ]
     },
     "execution_count": 14,
     "metadata": {},
     "output_type": "execute_result"
    }
   ],
   "source": [
    "a.counter"
   ]
  },
  {
   "cell_type": "code",
   "execution_count": 16,
   "id": "dc367b99-387a-4519-b670-1fe42d768873",
   "metadata": {},
   "outputs": [],
   "source": [
    "class Myclass:\n",
    "    def __init__(self,x=0):\n",
    "        print(\"Initializing\")\n",
    "        self.counter = x\n",
    "    def __call__(self,x=0):\n",
    "        print(\"Updating Counter\")\n",
    "        self.counter += x"
   ]
  },
  {
   "cell_type": "code",
   "execution_count": 18,
   "id": "c2b464ce-b006-4627-8337-e2130d4f79b7",
   "metadata": {},
   "outputs": [
    {
     "name": "stdout",
     "output_type": "stream",
     "text": [
      "Initializing\n"
     ]
    }
   ],
   "source": [
    "b = Myclass()"
   ]
  },
  {
   "cell_type": "code",
   "execution_count": 7,
   "id": "0dc2510e-8e82-44cc-85d8-4a6415fdd7b3",
   "metadata": {},
   "outputs": [
    {
     "name": "stdout",
     "output_type": "stream",
     "text": [
      "720\n",
      "<map object at 0x000001EC3485F850>\n",
      "1\n",
      "1\n",
      "2\n",
      "6\n",
      "24\n",
      "120\n"
     ]
    }
   ],
   "source": [
    "#MAP , FILTER , ZIP , LIST COMPREHENSIONS-->\n",
    "\n",
    "#In these things we can pass the functions to the inbuild functions to make things\n",
    "\n",
    "def fact(n):\n",
    "    return 1 if n < 2 else n * fact(n-1)\n",
    "\n",
    "print(fact(6))\n",
    "results = map(fact , range(6))\n",
    "print(results)\n",
    "for x in results:\n",
    "    print(x)"
   ]
  },
  {
   "cell_type": "code",
   "execution_count": 11,
   "id": "2c52469d-6817-4765-acc7-4771d388281f",
   "metadata": {},
   "outputs": [
    {
     "name": "stdout",
     "output_type": "stream",
     "text": [
      "[11, 22, 33]\n"
     ]
    }
   ],
   "source": [
    "l1 = [1,2,3]\n",
    "l2 = [10,20,30]\n",
    "results = list(map(lambda x , y : x+y,l1,l2))\n",
    "print(results)"
   ]
  },
  {
   "cell_type": "code",
   "execution_count": 13,
   "id": "4988a370-6ef1-4135-abe3-6b725b6c8599",
   "metadata": {},
   "outputs": [
    {
     "name": "stdout",
     "output_type": "stream",
     "text": [
      "[111, 222, 333]\n"
     ]
    }
   ],
   "source": [
    "l1 = [1,2,3]\n",
    "l2 = [10,20,30]\n",
    "l3 = [100,200,300,400]\n",
    "results = list(map(lambda x , y,z : x+y+z,l1,l2,l3))\n",
    "print(results)"
   ]
  },
  {
   "cell_type": "code",
   "execution_count": 17,
   "id": "eeac9c03-e5eb-41fa-b457-69804b3b58d4",
   "metadata": {},
   "outputs": [
    {
     "name": "stdout",
     "output_type": "stream",
     "text": [
      "[0, 3, 6, 9, 12, 15, 18, 21, 24]\n"
     ]
    }
   ],
   "source": [
    "results = list(filter(lambda x : x%3==0,range(25)))\n",
    "print(results)"
   ]
  },
  {
   "cell_type": "code",
   "execution_count": 21,
   "id": "d00f8239-51ea-4ed8-a9f8-47df30a1865c",
   "metadata": {},
   "outputs": [
    {
     "name": "stdout",
     "output_type": "stream",
     "text": [
      "[(1, 10, 'p'), (2, 20, 'y'), (3, 30, 't')]\n"
     ]
    }
   ],
   "source": [
    "l1 = [1,2,3]\n",
    "l2 = [10,20,30]\n",
    "l3 = 'python'\n",
    "results = list(zip(l1,l2,l3))\n",
    "print(results)"
   ]
  },
  {
   "cell_type": "code",
   "execution_count": 27,
   "id": "b6fe0075-e20c-440c-bd1f-a7cba4d388fa",
   "metadata": {},
   "outputs": [
    {
     "data": {
      "text/plain": [
       "100"
      ]
     },
     "execution_count": 27,
     "metadata": {},
     "output_type": "execute_result"
    }
   ],
   "source": [
    "l = [1,3,5,6,8,100,10]\n",
    "_max = lambda x , y : x if x > y else y\n",
    "\n",
    "def sequence(sequence):\n",
    "    result = sequence[0]\n",
    "    for x in sequence[1:]:\n",
    "        result = _max(result , x)\n",
    "    return result\n",
    "sequence(l)"
   ]
  },
  {
   "cell_type": "code",
   "execution_count": 30,
   "id": "36cf87d1-3d31-4676-b84d-3240d7f5e0ad",
   "metadata": {},
   "outputs": [
    {
     "name": "stdout",
     "output_type": "stream",
     "text": [
      "9\n"
     ]
    }
   ],
   "source": [
    "# Find the largest number in a list\n",
    "from functools import reduce\n",
    "nums = [3, 1, 4, 1, 5, 9]\n",
    "max_value = reduce(lambda x, y: x if x > y else y, nums)\n",
    "print(max_value)  # Output: 9\n"
   ]
  },
  {
   "cell_type": "code",
   "execution_count": 32,
   "id": "be51cc42-da70-4e5a-9d9f-0eddb5e86fa0",
   "metadata": {},
   "outputs": [
    {
     "name": "stdout",
     "output_type": "stream",
     "text": [
      "10\n",
      "20\n"
     ]
    }
   ],
   "source": [
    "from functools import partial\n",
    "\n",
    "# Original function\n",
    "def multiply(x, y):\n",
    "    return x * y\n",
    "\n",
    "# Create a new function that multiplies by 2\n",
    "double = partial(multiply, 2)\n",
    "\n",
    "# Use the new function\n",
    "print(double(5))  # Output: 10\n",
    "print(double(10))  # Output: 20\n"
   ]
  },
  {
   "cell_type": "code",
   "execution_count": 33,
   "id": "5c923598-69b4-489a-9c22-1b5fa492eb43",
   "metadata": {},
   "outputs": [
    {
     "name": "stdout",
     "output_type": "stream",
     "text": [
      "8\n",
      "5\n",
      "12\n",
      "4.0\n",
      "2\n",
      "1\n",
      "8\n",
      "True\n",
      "True\n",
      "True\n",
      "True\n",
      "True\n",
      "True\n",
      "False\n",
      "True\n",
      "False\n",
      "1\n",
      "7\n",
      "6\n",
      "-4\n",
      "Hello World\n",
      "2\n",
      "None\n",
      "[1, 3]\n",
      "42\n",
      "HELLO\n",
      "{'subkey': 10}\n"
     ]
    },
    {
     "ename": "KeyError",
     "evalue": "'key'",
     "output_type": "error",
     "traceback": [
      "\u001b[1;31m---------------------------------------------------------------------------\u001b[0m",
      "\u001b[1;31mKeyError\u001b[0m                                  Traceback (most recent call last)",
      "Cell \u001b[1;32mIn[33], line 52\u001b[0m\n\u001b[0;32m     50\u001b[0m nested \u001b[38;5;241m=\u001b[39m {\u001b[38;5;124m\"\u001b[39m\u001b[38;5;124mkey\u001b[39m\u001b[38;5;124m\"\u001b[39m: {\u001b[38;5;124m\"\u001b[39m\u001b[38;5;124msubkey\u001b[39m\u001b[38;5;124m\"\u001b[39m: \u001b[38;5;241m10\u001b[39m}}\n\u001b[0;32m     51\u001b[0m \u001b[38;5;28mprint\u001b[39m(operator\u001b[38;5;241m.\u001b[39mitemgetter(\u001b[38;5;124m\"\u001b[39m\u001b[38;5;124mkey\u001b[39m\u001b[38;5;124m\"\u001b[39m)(nested))       \u001b[38;5;66;03m# Get \"key\": {\"subkey\": 10}\u001b[39;00m\n\u001b[1;32m---> 52\u001b[0m \u001b[38;5;28mprint\u001b[39m(\u001b[43moperator\u001b[49m\u001b[38;5;241;43m.\u001b[39;49m\u001b[43mitemgetter\u001b[49m\u001b[43m(\u001b[49m\u001b[38;5;124;43m\"\u001b[39;49m\u001b[38;5;124;43mkey\u001b[39;49m\u001b[38;5;124;43m\"\u001b[39;49m\u001b[43m,\u001b[49m\u001b[43m \u001b[49m\u001b[38;5;124;43m\"\u001b[39;49m\u001b[38;5;124;43msubkey\u001b[39;49m\u001b[38;5;124;43m\"\u001b[39;49m\u001b[43m)\u001b[49m\u001b[43m(\u001b[49m\u001b[43mnested\u001b[49m\u001b[43m[\u001b[49m\u001b[38;5;124;43m\"\u001b[39;49m\u001b[38;5;124;43mkey\u001b[39;49m\u001b[38;5;124;43m\"\u001b[39;49m\u001b[43m]\u001b[49m\u001b[43m)\u001b[49m)  \u001b[38;5;66;03m# Get nested keys\u001b[39;00m\n\u001b[0;32m     54\u001b[0m \u001b[38;5;66;03m# Additional Functions\u001b[39;00m\n\u001b[0;32m     55\u001b[0m x \u001b[38;5;241m=\u001b[39m operator\u001b[38;5;241m.\u001b[39miadd(\u001b[38;5;241m3\u001b[39m, \u001b[38;5;241m5\u001b[39m)                \u001b[38;5;66;03m# In-place addition: 8\u001b[39;00m\n",
      "\u001b[1;31mKeyError\u001b[0m: 'key'"
     ]
    }
   ],
   "source": [
    "#Operator Module\n",
    "#The operator module in Python provides a set of functions that correspond to standard operators \n",
    "#(e.g., arithmetic, comparison, logical, and bitwise operators). \n",
    "#These functions are especially useful when writing functional-style programming, as they allow you to use operators as functions.\n",
    "import operator\n",
    "\n",
    "# Arithmetic Operators\n",
    "print(operator.add(3, 5))          # Addition: 8\n",
    "print(operator.sub(10, 5))         # Subtraction: 5\n",
    "print(operator.mul(4, 3))          # Multiplication: 12\n",
    "print(operator.truediv(8, 2))      # Division (float): 4.0\n",
    "print(operator.floordiv(7, 3))     # Floor division: 2\n",
    "print(operator.mod(7, 3))          # Modulus: 1\n",
    "print(operator.pow(2, 3))          # Exponentiation: 8\n",
    "\n",
    "# Comparison Operators\n",
    "print(operator.eq(5, 5))           # Equal: True\n",
    "print(operator.ne(5, 4))           # Not equal: True\n",
    "print(operator.lt(3, 5))           # Less than: True\n",
    "print(operator.le(3, 3))           # Less than or equal: True\n",
    "print(operator.gt(5, 3))           # Greater than: True\n",
    "print(operator.ge(5, 5))           # Greater than or equal: True\n",
    "\n",
    "# Logical Operators\n",
    "print(operator.and_(True, False))  # Logical AND: False\n",
    "print(operator.or_(True, False))   # Logical OR: True\n",
    "print(operator.not_(True))         # Logical NOT: False\n",
    "\n",
    "# Bitwise Operators\n",
    "print(operator.and_(3, 5))         # Bitwise AND: 1 (binary: 0011 & 0101)\n",
    "print(operator.or_(3, 5))          # Bitwise OR: 7 (binary: 0011 | 0101)\n",
    "print(operator.xor(3, 5))          # Bitwise XOR: 6 (binary: 0011 ^ 0101)\n",
    "print(operator.invert(3))          # Bitwise NOT: -4\n",
    "\n",
    "# Sequence Operations\n",
    "print(operator.concat(\"Hello \", \"World\")) # Concatenate strings: \"Hello World\"\n",
    "print(operator.getitem([1, 2, 3], 1))     # Get item: 2\n",
    "print(operator.setitem([1, 2, 3], 1, 4))  # Set item (modify list)\n",
    "a = [1, 2, 3]\n",
    "operator.delitem(a, 1)                    # Delete item from list\n",
    "print(a)                                  # Output: [1, 3]\n",
    "\n",
    "# Attribute and Method Access\n",
    "class MyClass:\n",
    "    def __init__(self):\n",
    "        self.value = 42\n",
    "\n",
    "obj = MyClass()\n",
    "print(operator.attrgetter(\"value\")(obj))   # Get attribute: 42\n",
    "print(operator.methodcaller(\"upper\")(\"hello\"))  # Call method: \"HELLO\"\n",
    "\n",
    "# Item Getter (for Multilevel Indexing)\n",
    "nested = {\"key\": {\"subkey\": 10}}\n",
    "print(operator.itemgetter(\"key\")(nested))       # Get \"key\": {\"subkey\": 10}\n",
    "print(operator.itemgetter(\"key\", \"subkey\")(nested[\"key\"]))  # Get nested keys\n",
    "\n",
    "# Additional Functions\n",
    "x = operator.iadd(3, 5)                # In-place addition: 8\n",
    "y = operator.imul(4, 2)                # In-place multiplication: 8\n",
    "z = operator.iconcat(\"Hi\", \" There\")   # In-place concatenation: \"Hi There\"\n"
   ]
  }
 ],
 "metadata": {
  "kernelspec": {
   "display_name": "Python 3 (ipykernel)",
   "language": "python",
   "name": "python3"
  },
  "language_info": {
   "codemirror_mode": {
    "name": "ipython",
    "version": 3
   },
   "file_extension": ".py",
   "mimetype": "text/x-python",
   "name": "python",
   "nbconvert_exporter": "python",
   "pygments_lexer": "ipython3",
   "version": "3.11.9"
  }
 },
 "nbformat": 4,
 "nbformat_minor": 5
}
