{
 "cells": [
  {
   "cell_type": "code",
   "execution_count": 1,
   "id": "e0b7c0a4-37c0-4e07-8c67-5d4623c2f281",
   "metadata": {},
   "outputs": [
    {
     "name": "stdout",
     "output_type": "stream",
     "text": [
      "0\n",
      "1\n",
      "2\n",
      "3\n",
      "4\n"
     ]
    }
   ],
   "source": [
    "i = 0\n",
    "while i < 5:\n",
    "    print(i)\n",
    "    i += 1"
   ]
  },
  {
   "cell_type": "code",
   "execution_count": 3,
   "id": "906b0d47-39c1-4612-8267-42fe61b241f6",
   "metadata": {},
   "outputs": [
    {
     "name": "stdin",
     "output_type": "stream",
     "text": [
      "Enter your name: a\n",
      "Enter your name now aia\n"
     ]
    },
    {
     "name": "stdout",
     "output_type": "stream",
     "text": [
      "Your name is aia\n"
     ]
    }
   ],
   "source": [
    "min_length = 2\n",
    "name = input(\"Enter your name:\")\n",
    "\n",
    "while not(len(name) >= min_length and name.isprintable() and name.isalpha()):\n",
    "    name=input(\"Enter your name now\")\n",
    "    print(f\"Your name is {name}\")"
   ]
  },
  {
   "cell_type": "code",
   "execution_count": 3,
   "id": "2a40106f-875c-407d-ae78-a45d1d8d0d43",
   "metadata": {},
   "outputs": [
    {
     "name": "stdin",
     "output_type": "stream",
     "text": [
      "Enter your name now: G;';ll\n",
      "Enter your name now: ;l\n",
      "Enter your name now: ;\n",
      "Enter your name now: Gokul Kannan Kannan\n",
      "Enter your name now: \n",
      "Enter your name now: \n",
      "Enter your name now: \n",
      "Enter your name now: \n",
      "Enter your name now: \n",
      "Enter your name now: \n",
      "Enter your name now: \n",
      "Enter your name now: \n",
      "Enter your name now: \n",
      "Enter your name now: \n",
      "Enter your name now: \n"
     ]
    },
    {
     "ename": "KeyboardInterrupt",
     "evalue": "Interrupted by user",
     "output_type": "error",
     "traceback": [
      "\u001b[1;31m---------------------------------------------------------------------------\u001b[0m",
      "\u001b[1;31mKeyboardInterrupt\u001b[0m                         Traceback (most recent call last)",
      "Cell \u001b[1;32mIn[3], line 4\u001b[0m\n\u001b[0;32m      1\u001b[0m min_length \u001b[38;5;241m=\u001b[39m \u001b[38;5;241m2\u001b[39m\n\u001b[0;32m      3\u001b[0m \u001b[38;5;28;01mwhile\u001b[39;00m \u001b[38;5;28;01mTrue\u001b[39;00m:\n\u001b[1;32m----> 4\u001b[0m     name\u001b[38;5;241m=\u001b[39m\u001b[38;5;28;43minput\u001b[39;49m\u001b[43m(\u001b[49m\u001b[38;5;124;43m\"\u001b[39;49m\u001b[38;5;124;43mEnter your name now:\u001b[39;49m\u001b[38;5;124;43m\"\u001b[39;49m\u001b[43m)\u001b[49m\n\u001b[0;32m      5\u001b[0m     \u001b[38;5;28;01mif\u001b[39;00m \u001b[38;5;28mlen\u001b[39m(name) \u001b[38;5;241m>\u001b[39m\u001b[38;5;241m=\u001b[39m min_length \u001b[38;5;129;01mand\u001b[39;00m name\u001b[38;5;241m.\u001b[39misprintable() \u001b[38;5;129;01mand\u001b[39;00m name\u001b[38;5;241m.\u001b[39misalpha():\n\u001b[0;32m      6\u001b[0m         \u001b[38;5;28;01mbreak\u001b[39;00m\n",
      "File \u001b[1;32m~\\AppData\\Local\\Programs\\Python\\Python311\\Lib\\site-packages\\ipykernel\\kernelbase.py:1282\u001b[0m, in \u001b[0;36mKernel.raw_input\u001b[1;34m(self, prompt)\u001b[0m\n\u001b[0;32m   1280\u001b[0m     msg \u001b[38;5;241m=\u001b[39m \u001b[38;5;124m\"\u001b[39m\u001b[38;5;124mraw_input was called, but this frontend does not support input requests.\u001b[39m\u001b[38;5;124m\"\u001b[39m\n\u001b[0;32m   1281\u001b[0m     \u001b[38;5;28;01mraise\u001b[39;00m StdinNotImplementedError(msg)\n\u001b[1;32m-> 1282\u001b[0m \u001b[38;5;28;01mreturn\u001b[39;00m \u001b[38;5;28;43mself\u001b[39;49m\u001b[38;5;241;43m.\u001b[39;49m\u001b[43m_input_request\u001b[49m\u001b[43m(\u001b[49m\n\u001b[0;32m   1283\u001b[0m \u001b[43m    \u001b[49m\u001b[38;5;28;43mstr\u001b[39;49m\u001b[43m(\u001b[49m\u001b[43mprompt\u001b[49m\u001b[43m)\u001b[49m\u001b[43m,\u001b[49m\n\u001b[0;32m   1284\u001b[0m \u001b[43m    \u001b[49m\u001b[38;5;28;43mself\u001b[39;49m\u001b[38;5;241;43m.\u001b[39;49m\u001b[43m_parent_ident\u001b[49m\u001b[43m[\u001b[49m\u001b[38;5;124;43m\"\u001b[39;49m\u001b[38;5;124;43mshell\u001b[39;49m\u001b[38;5;124;43m\"\u001b[39;49m\u001b[43m]\u001b[49m\u001b[43m,\u001b[49m\n\u001b[0;32m   1285\u001b[0m \u001b[43m    \u001b[49m\u001b[38;5;28;43mself\u001b[39;49m\u001b[38;5;241;43m.\u001b[39;49m\u001b[43mget_parent\u001b[49m\u001b[43m(\u001b[49m\u001b[38;5;124;43m\"\u001b[39;49m\u001b[38;5;124;43mshell\u001b[39;49m\u001b[38;5;124;43m\"\u001b[39;49m\u001b[43m)\u001b[49m\u001b[43m,\u001b[49m\n\u001b[0;32m   1286\u001b[0m \u001b[43m    \u001b[49m\u001b[43mpassword\u001b[49m\u001b[38;5;241;43m=\u001b[39;49m\u001b[38;5;28;43;01mFalse\u001b[39;49;00m\u001b[43m,\u001b[49m\n\u001b[0;32m   1287\u001b[0m \u001b[43m\u001b[49m\u001b[43m)\u001b[49m\n",
      "File \u001b[1;32m~\\AppData\\Local\\Programs\\Python\\Python311\\Lib\\site-packages\\ipykernel\\kernelbase.py:1325\u001b[0m, in \u001b[0;36mKernel._input_request\u001b[1;34m(self, prompt, ident, parent, password)\u001b[0m\n\u001b[0;32m   1322\u001b[0m \u001b[38;5;28;01mexcept\u001b[39;00m \u001b[38;5;167;01mKeyboardInterrupt\u001b[39;00m:\n\u001b[0;32m   1323\u001b[0m     \u001b[38;5;66;03m# re-raise KeyboardInterrupt, to truncate traceback\u001b[39;00m\n\u001b[0;32m   1324\u001b[0m     msg \u001b[38;5;241m=\u001b[39m \u001b[38;5;124m\"\u001b[39m\u001b[38;5;124mInterrupted by user\u001b[39m\u001b[38;5;124m\"\u001b[39m\n\u001b[1;32m-> 1325\u001b[0m     \u001b[38;5;28;01mraise\u001b[39;00m \u001b[38;5;167;01mKeyboardInterrupt\u001b[39;00m(msg) \u001b[38;5;28;01mfrom\u001b[39;00m \u001b[38;5;28;01mNone\u001b[39;00m\n\u001b[0;32m   1326\u001b[0m \u001b[38;5;28;01mexcept\u001b[39;00m \u001b[38;5;167;01mException\u001b[39;00m:\n\u001b[0;32m   1327\u001b[0m     \u001b[38;5;28mself\u001b[39m\u001b[38;5;241m.\u001b[39mlog\u001b[38;5;241m.\u001b[39mwarning(\u001b[38;5;124m\"\u001b[39m\u001b[38;5;124mInvalid Message:\u001b[39m\u001b[38;5;124m\"\u001b[39m, exc_info\u001b[38;5;241m=\u001b[39m\u001b[38;5;28;01mTrue\u001b[39;00m)\n",
      "\u001b[1;31mKeyboardInterrupt\u001b[0m: Interrupted by user"
     ]
    }
   ],
   "source": [
    "min_length = 2\n",
    "\n",
    "while True:\n",
    "    name=input(\"Enter your name now:\")\n",
    "    if len(name) >= min_length and name.isprintable() and name.isalpha():\n",
    "        break\n",
    "\n",
    "print(\"Your Name is {0}\".format(name))"
   ]
  },
  {
   "cell_type": "code",
   "execution_count": 5,
   "id": "f1c8480f-d1e4-405b-90ac-dc079ea9717e",
   "metadata": {},
   "outputs": [
    {
     "name": "stdout",
     "output_type": "stream",
     "text": [
      "[1, 2, 3, 10]\n"
     ]
    }
   ],
   "source": [
    "l = [1,2,3]\n",
    "idx = 0\n",
    "found = False\n",
    "val = 10\n",
    "\n",
    "while idx < len(l):\n",
    "    if l[idx] == val:\n",
    "        found = True\n",
    "        break\n",
    "    idx +=1\n",
    "if not found:\n",
    "    l.append(val)\n",
    "\n",
    "print(l)"
   ]
  },
  {
   "cell_type": "code",
   "execution_count": 2,
   "id": "51afebcb-5c9b-4942-ba40-0c0df14e138c",
   "metadata": {},
   "outputs": [
    {
     "name": "stdout",
     "output_type": "stream",
     "text": [
      "[1, 2, 3, 10]\n"
     ]
    }
   ],
   "source": [
    "l = [1,2,3]\n",
    "idx = 0\n",
    "val = 10\n",
    "\n",
    "while idx < len(l):\n",
    "    if l[idx] == val:\n",
    "        break\n",
    "    idx +=1\n",
    "else:\n",
    "    l.append(val)\n",
    "\n",
    "print(l)"
   ]
  },
  {
   "cell_type": "markdown",
   "id": "433344f7-525a-4c56-aabf-e5f4b4329c54",
   "metadata": {},
   "source": []
  },
  {
   "cell_type": "code",
   "execution_count": 1,
   "id": "3a61ad0c-5ad0-460e-9c61-ffb8ba4e4ba0",
   "metadata": {},
   "outputs": [
    {
     "name": "stdout",
     "output_type": "stream",
     "text": [
      "[1, 2, 3, 10]\n"
     ]
    }
   ],
   "source": [
    "l = [1,2,3,10]\n",
    "idx = 0\n",
    "val = 10\n",
    "\n",
    "while idx < len(l):\n",
    "    if l[idx] == val:\n",
    "        break\n",
    "    idx +=1\n",
    "else:\n",
    "    l.append(val)\n",
    "\n",
    "print(l)"
   ]
  },
  {
   "cell_type": "code",
   "execution_count": null,
   "id": "3ac31d38-d2ff-44aa-aa27-c1297ab2152f",
   "metadata": {},
   "outputs": [],
   "source": [
    "*TRY EXCEPT FINALLY*"
   ]
  },
  {
   "cell_type": "code",
   "execution_count": 4,
   "id": "4a327efa-76bd-4585-a0f5-5b5315299480",
   "metadata": {},
   "outputs": [
    {
     "name": "stdout",
     "output_type": "stream",
     "text": [
      "Division By zero\n",
      "this always excutes\n"
     ]
    }
   ],
   "source": [
    "a=10\n",
    "b=0\n",
    "try:\n",
    "    a/b\n",
    "except ZeroDivisionError:\n",
    "    print(\"Division By zero\")\n",
    "finally:\n",
    "    print(\"this always excutes\")#This Always execute"
   ]
  },
  {
   "cell_type": "code",
   "execution_count": 9,
   "id": "eb43a2ac-c7f4-49c3-bc82-fd704f316e60",
   "metadata": {},
   "outputs": [
    {
     "name": "stdout",
     "output_type": "stream",
     "text": [
      "----------------------\n",
      "1,1 - always execute\n",
      "1,1 - main loop\n",
      "----------------------\n",
      "2,0 - division by 0\n",
      "2,0 - always execute\n",
      "----------------------\n",
      "3,-1 - always execute\n",
      "3,-1 - main loop\n",
      "----------------------\n",
      "4,-2 - always execute\n",
      "4,-2 - main loop\n"
     ]
    }
   ],
   "source": [
    "a=0\n",
    "b=2\n",
    "\n",
    "while a<4:\n",
    "    print('----------------------')\n",
    "    a +=1\n",
    "    b -=1\n",
    "    try:\n",
    "        a/b\n",
    "    except ZeroDivisionError:\n",
    "        print(\"{0},{1} - division by 0\".format(a,b))\n",
    "        continue#In the 2 loop it executes the finally and going to start of the program\n",
    "    finally:\n",
    "        print(\"{0},{1} - always execute\".format(a,b))\n",
    "    print(\"{0},{1} - main loop\".format(a,b))"
   ]
  },
  {
   "cell_type": "code",
   "execution_count": 12,
   "id": "95ebaa8a-f283-465e-b3df-a00dd2052066",
   "metadata": {
    "scrolled": true
   },
   "outputs": [
    {
     "name": "stdout",
     "output_type": "stream",
     "text": [
      "----------------------\n",
      "1,9 - always execute\n",
      "1,9 - main loop\n",
      "----------------------\n",
      "2,8 - always execute\n",
      "2,8 - main loop\n",
      "----------------------\n",
      "3,7 - always execute\n",
      "3,7 - main loop\n",
      "----------------------\n",
      "4,6 - always execute\n",
      "4,6 - main loop\n",
      "Code ran without a zerodivision Error\n"
     ]
    }
   ],
   "source": [
    "a=0\n",
    "b=10\n",
    "\n",
    "while a<4:\n",
    "    print('----------------------')\n",
    "    a +=1\n",
    "    b -=1\n",
    "    try:\n",
    "        a/b\n",
    "    except ZeroDivisionError:\n",
    "        print(\"{0},{1} - division by 0\".format(a,b))\n",
    "        break#In the 2 loop it executes the finally and breaking the whole program\n",
    "    finally:\n",
    "        print(\"{0},{1} - always execute\".format(a,b))\n",
    "    print(\"{0},{1} - main loop\".format(a,b))\n",
    "else:\n",
    "    print(\"Code ran without a zerodivision Error\")"
   ]
  },
  {
   "cell_type": "markdown",
   "id": "94f1c9f9-0364-442f-8713-02a51915ba66",
   "metadata": {},
   "source": [
    "#THE FOR LOOP"
   ]
  },
  {
   "cell_type": "markdown",
   "id": "33a1afc5-08ea-43fc-bb51-b160f8daec8c",
   "metadata": {},
   "source": [
    "**In Python, an Itertable is an object capable of returining one object at a time**"
   ]
  },
  {
   "cell_type": "code",
   "execution_count": 13,
   "id": "b144c237-a1f1-4b96-b0d3-d76b64bf5d20",
   "metadata": {},
   "outputs": [
    {
     "name": "stdout",
     "output_type": "stream",
     "text": [
      "h\n",
      "e\n",
      "l\n",
      "l\n",
      "o\n"
     ]
    }
   ],
   "source": [
    "for c in 'hello':\n",
    "    print(c)\n"
   ]
  },
  {
   "cell_type": "code",
   "execution_count": 15,
   "id": "e7c0da34-1bdd-4466-bc9a-61a6db4c6aee",
   "metadata": {},
   "outputs": [
    {
     "name": "stdout",
     "output_type": "stream",
     "text": [
      "i\n",
      "k\n",
      "r\n",
      "p\n",
      "c\n"
     ]
    }
   ],
   "source": [
    "for m in ('i','k','r','p','c'):\n",
    "    print(m)"
   ]
  },
  {
   "cell_type": "code",
   "execution_count": 16,
   "id": "2d14e2be-d29e-450c-ae05-db0ad7d731d3",
   "metadata": {},
   "outputs": [
    {
     "name": "stdout",
     "output_type": "stream",
     "text": [
      "0\n",
      "1\n",
      "2\n"
     ]
    }
   ],
   "source": [
    "for i in range(5):\n",
    "    if i ==3:\n",
    "        break\n",
    "    print(i)"
   ]
  },
  {
   "cell_type": "code",
   "execution_count": 20,
   "id": "ab04a72e-319e-4730-929c-34ad3013b887",
   "metadata": {},
   "outputs": [
    {
     "name": "stdout",
     "output_type": "stream",
     "text": [
      "1\n",
      "2\n",
      "3\n",
      "4\n",
      "No multiples of 7 found\n"
     ]
    }
   ],
   "source": [
    "for i in range(1,5):\n",
    "    print(i)\n",
    "    if i%7==0:\n",
    "        print(\"Multiples of 7 found\")\n",
    "        break\n",
    "else:\n",
    "    print(\"No multiples of 7 found\")"
   ]
  },
  {
   "cell_type": "code",
   "execution_count": 22,
   "id": "9d539abb-38c0-48cd-b8f9-7fb8961038ad",
   "metadata": {},
   "outputs": [
    {
     "name": "stdout",
     "output_type": "stream",
     "text": [
      "-------------------------\n",
      "Always run\n",
      "0\n",
      "-------------------------\n",
      "Always run\n",
      "1\n",
      "-------------------------\n",
      "Always run\n",
      "2\n",
      "-------------------------\n",
      "Divided by 0\n",
      "Always run\n",
      "-------------------------\n",
      "Always run\n",
      "4\n"
     ]
    }
   ],
   "source": [
    "for i in range(5):\n",
    "    print('-------------------------')\n",
    "    try:\n",
    "        10/(i-3)\n",
    "    except ZeroDivisionError:\n",
    "        print('Divided by 0')\n",
    "        continue\n",
    "    finally:\n",
    "        print('Always run')\n",
    "    print(i)"
   ]
  },
  {
   "cell_type": "code",
   "execution_count": 29,
   "id": "d7412ab8-61a4-493c-9100-898c58824367",
   "metadata": {},
   "outputs": [
    {
     "name": "stdout",
     "output_type": "stream",
     "text": [
      "0 o\n",
      "1 o\n",
      "2 o\n",
      "3 o\n",
      "4 o\n"
     ]
    }
   ],
   "source": [
    "s = 'hello'\n",
    "for i , s in enumerate(s):\n",
    "    print(i,m)"
   ]
  },
  {
   "cell_type": "markdown",
   "id": "b1025308-7542-4707-82e7-784bc4941c35",
   "metadata": {},
   "source": [
    "**CLASSES**"
   ]
  },
  {
   "cell_type": "code",
   "execution_count": 40,
   "id": "6939a459-c144-48d3-b7b5-8cc96724f47e",
   "metadata": {},
   "outputs": [],
   "source": [
    "class Rectangle:\n",
    "    def __init__(self, width, height):\n",
    "        self.width = width\n",
    "        self.height = height"
   ]
  },
  {
   "cell_type": "code",
   "execution_count": 41,
   "id": "f0d2b1aa-1d5a-48b1-bc79-fb7ed4dfa4a9",
   "metadata": {},
   "outputs": [],
   "source": [
    "r1 = Rectangle(10,100)"
   ]
  },
  {
   "cell_type": "code",
   "execution_count": 37,
   "id": "4217a9f6-dd0a-4c60-a722-ae1c71daa37e",
   "metadata": {},
   "outputs": [
    {
     "data": {
      "text/plain": [
       "100"
      ]
     },
     "execution_count": 37,
     "metadata": {},
     "output_type": "execute_result"
    }
   ],
   "source": [
    "r1.height"
   ]
  },
  {
   "cell_type": "code",
   "execution_count": 39,
   "id": "f4913725-7c38-4904-a741-1da904c84222",
   "metadata": {},
   "outputs": [],
   "source": [
    "class Rectangle:\n",
    "    def __init__(self, width, height):\n",
    "        self.width = width\n",
    "        self.height = height\n",
    "    def area(self):\n",
    "        return self.width * self.height\n",
    "    def perimeter(self):\n",
    "        return (self.width + self.height)\n",
    "    def to_string(self):\n",
    "        return \"width = {0},height = {1}\".format(self.width,self.height)"
   ]
  },
  {
   "cell_type": "code",
   "execution_count": 40,
   "id": "3cf75a89-7758-4ffd-8f44-6fe506359099",
   "metadata": {},
   "outputs": [],
   "source": [
    "r1 = Rectangle(10,100)"
   ]
  },
  {
   "cell_type": "code",
   "execution_count": 41,
   "id": "2ded4461-614f-4574-83e8-cc43db8f3329",
   "metadata": {},
   "outputs": [
    {
     "data": {
      "text/plain": [
       "1000"
      ]
     },
     "execution_count": 41,
     "metadata": {},
     "output_type": "execute_result"
    }
   ],
   "source": [
    "r1.area()"
   ]
  },
  {
   "cell_type": "code",
   "execution_count": 6,
   "id": "97b274c1-a4b7-426c-b9fd-972f8098fcbc",
   "metadata": {},
   "outputs": [
    {
     "data": {
      "text/plain": [
       "115"
      ]
     },
     "execution_count": 6,
     "metadata": {},
     "output_type": "execute_result"
    }
   ],
   "source": [
    "r1.perimeter()"
   ]
  },
  {
   "cell_type": "code",
   "execution_count": 43,
   "id": "38267a5a-748b-43b2-93e3-554a6a3de366",
   "metadata": {},
   "outputs": [
    {
     "data": {
      "text/plain": [
       "'width = 10,height = 100'"
      ]
     },
     "execution_count": 43,
     "metadata": {},
     "output_type": "execute_result"
    }
   ],
   "source": [
    "r1.to_string()"
   ]
  },
  {
   "cell_type": "code",
   "execution_count": 49,
   "id": "843e779f-a961-4434-b321-1641a4e99e35",
   "metadata": {},
   "outputs": [],
   "source": [
    "class Rectangle:\n",
    "    def __init__(self, width, height):\n",
    "        self.width = width\n",
    "        self.height = height\n",
    "    def area(self):\n",
    "        return self.width * self.height\n",
    "    def perimeter(self):\n",
    "        return (self.width + self.height)\n",
    "    def __str__(self):\n",
    "        return \"width = {0},height = {1}\".format(self.width,self.height)\n",
    "    def __repr__(self):\n",
    "        return \"width = {0},height = {1}\".format(self.width,self.height)\n",
    "    def __eq__(self):\n",
    "        return \"width = {0},height = {1}\".format(self.width,self.height)"
   ]
  },
  {
   "cell_type": "code",
   "execution_count": 50,
   "id": "80be1d8e-51e7-425c-85e8-0188a5d7c814",
   "metadata": {},
   "outputs": [],
   "source": [
    "r1 = Rectangle(10,100)"
   ]
  },
  {
   "cell_type": "code",
   "execution_count": 51,
   "id": "0cab561b-1e4d-4a72-ae28-580d2976e3a2",
   "metadata": {},
   "outputs": [
    {
     "data": {
      "text/plain": [
       "'width = 10,height = 100'"
      ]
     },
     "execution_count": 51,
     "metadata": {},
     "output_type": "execute_result"
    }
   ],
   "source": [
    "str(r1)"
   ]
  },
  {
   "cell_type": "code",
   "execution_count": 52,
   "id": "1abad0ae-a0d6-4b67-a0aa-eb7c43e98830",
   "metadata": {},
   "outputs": [
    {
     "data": {
      "text/plain": [
       "'width = 10,height = 100'"
      ]
     },
     "execution_count": 52,
     "metadata": {},
     "output_type": "execute_result"
    }
   ],
   "source": [
    "repr(r1)"
   ]
  },
  {
   "cell_type": "code",
   "execution_count": 53,
   "id": "303ad283-b824-4156-b86f-aae0302d321d",
   "metadata": {},
   "outputs": [],
   "source": []
  },
  {
   "cell_type": "markdown",
   "id": "4df17f25-ad10-400e-a7ea-83b835757093",
   "metadata": {},
   "source": [
    "#PARAMETERS AND ARGUMENTS IN FUNCTION"
   ]
  },
  {
   "cell_type": "code",
   "execution_count": 4,
   "id": "a5844b36-9040-4dc4-890e-f4e50ded0cb7",
   "metadata": {},
   "outputs": [],
   "source": [
    "def my_func(a,b,c):\n",
    "    print(f\"a:{a} , b:{b} , c={c}\")\n",
    "    "
   ]
  },
  {
   "cell_type": "code",
   "execution_count": 7,
   "id": "2f56a8d6-b8fc-4813-b3ec-d482140f7bb9",
   "metadata": {},
   "outputs": [
    {
     "ename": "TypeError",
     "evalue": "my_func() missing 1 required positional argument: 'c'",
     "output_type": "error",
     "traceback": [
      "\u001b[1;31m---------------------------------------------------------------------------\u001b[0m",
      "\u001b[1;31mTypeError\u001b[0m                                 Traceback (most recent call last)",
      "Cell \u001b[1;32mIn[7], line 1\u001b[0m\n\u001b[1;32m----> 1\u001b[0m \u001b[43mmy_func\u001b[49m\u001b[43m(\u001b[49m\u001b[38;5;241;43m1\u001b[39;49m\u001b[43m,\u001b[49m\u001b[38;5;241;43m3\u001b[39;49m\u001b[43m)\u001b[49m\n",
      "\u001b[1;31mTypeError\u001b[0m: my_func() missing 1 required positional argument: 'c'"
     ]
    }
   ],
   "source": [
    "my_func(1,3)"
   ]
  },
  {
   "cell_type": "code",
   "execution_count": 10,
   "id": "44865c2b-0da0-46ff-8750-733fdd356ce1",
   "metadata": {},
   "outputs": [],
   "source": [
    "def my_func(a,b=2,c=3):\n",
    "    print(f\"a:{a} , b:{b} , c={c}\")\n",
    "    "
   ]
  },
  {
   "cell_type": "code",
   "execution_count": 13,
   "id": "12fd84c1-ed0a-4b8f-a0b9-7a0750cc5963",
   "metadata": {},
   "outputs": [
    {
     "name": "stdout",
     "output_type": "stream",
     "text": [
      "a:1 , b:2 , c=3\n"
     ]
    }
   ],
   "source": [
    "my_func(1)"
   ]
  },
  {
   "cell_type": "markdown",
   "id": "8b94fee1-1dbc-4c26-b2fa-c0fc15764d98",
   "metadata": {},
   "source": [
    "KEYWORD ARGUMENTS"
   ]
  },
  {
   "cell_type": "code",
   "execution_count": 14,
   "id": "42df1199-73de-4efe-b1f9-be097da0dfe8",
   "metadata": {},
   "outputs": [],
   "source": [
    "def my_func(a,b,c):\n",
    "    print(f\"a:{a} , b:{b} , c={c}\")"
   ]
  },
  {
   "cell_type": "code",
   "execution_count": 16,
   "id": "d09e9adb-d41c-4688-8b29-823c219c132f",
   "metadata": {},
   "outputs": [
    {
     "name": "stdout",
     "output_type": "stream",
     "text": [
      "a:17 , b:2 , c=10\n"
     ]
    }
   ],
   "source": [
    "my_func(c=10,b=2,a=17)"
   ]
  },
  {
   "cell_type": "markdown",
   "id": "9fa9b124-060e-4fa6-b449-7889aa99baa9",
   "metadata": {},
   "source": [
    "***(1,2,3) IS A TUPLE ALSO 1,2,3 ALSO A TUPLE UNPACKING ITERABLES***"
   ]
  }
 ],
 "metadata": {
  "kernelspec": {
   "display_name": "Python 3 (ipykernel)",
   "language": "python",
   "name": "python3"
  },
  "language_info": {
   "codemirror_mode": {
    "name": "ipython",
    "version": 3
   },
   "file_extension": ".py",
   "mimetype": "text/x-python",
   "name": "python",
   "nbconvert_exporter": "python",
   "pygments_lexer": "ipython3",
   "version": "3.11.9"
  }
 },
 "nbformat": 4,
 "nbformat_minor": 5
}
